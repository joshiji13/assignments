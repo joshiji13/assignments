{
 "cells": [
  {
   "cell_type": "code",
   "execution_count": 12,
   "id": "584c80ce-0cdb-4760-b2f3-648834056c53",
   "metadata": {},
   "outputs": [
    {
     "name": "stdin",
     "output_type": "stream",
     "text": [
      "Input the number for factorial 87\n"
     ]
    },
    {
     "name": "stdout",
     "output_type": "stream",
     "text": [
      "factorial of number is: 2107757298379527717213600518699389595229783738061356212322972511214654115727593174080683423236414793504734471782400000000000000000000\n"
     ]
    }
   ],
   "source": [
    "a=int(input(\"Input the number for factorial\"))\n",
    "fact=1\n",
    "if a==0:\n",
    "    print(\"Factorial=0\")\n",
    "else:\n",
    "    for i in range(1,a+1):\n",
    "        fact=fact*i\n",
    "    print(f\"factorial of number is: {fact}\")"
   ]
  },
  {
   "cell_type": "code",
   "execution_count": 13,
   "id": "e37263f4-03d2-4c54-80b7-8c4b7545df14",
   "metadata": {},
   "outputs": [
    {
     "name": "stdin",
     "output_type": "stream",
     "text": [
      "Enetr the number for table 5\n"
     ]
    },
    {
     "name": "stdout",
     "output_type": "stream",
     "text": [
      "5*1=5\n",
      "5*2=10\n",
      "5*3=15\n",
      "5*4=20\n",
      "5*5=25\n",
      "5*6=30\n",
      "5*7=35\n",
      "5*8=40\n",
      "5*9=45\n",
      "5*10=50\n"
     ]
    }
   ],
   "source": [
    "a=int(input(\"Enetr the number for table\"))\n",
    "for i in range(1,11):\n",
    "    print(f\"{a}*{i}={a*i}\")"
   ]
  },
  {
   "cell_type": "code",
   "execution_count": 4,
   "id": "5410950c-e925-43b4-89f4-9a4ac7eaba8a",
   "metadata": {},
   "outputs": [
    {
     "name": "stdout",
     "output_type": "stream",
     "text": [
      "1\n",
      "2\n",
      "3\n",
      "5\n",
      "8\n",
      "13\n",
      "21\n",
      "34\n",
      "55\n",
      "89\n",
      "144\n",
      "233\n",
      "377\n",
      "610\n",
      "987\n",
      "1597\n",
      "2584\n",
      "4181\n",
      "6765\n"
     ]
    }
   ],
   "source": [
    "a=20\n",
    "x=0\n",
    "y=1\n",
    "\n",
    "for i in range(1,a):\n",
    "    print(x+y)\n",
    "    x,y=y,y+x"
   ]
  },
  {
   "cell_type": "code",
   "execution_count": 20,
   "id": "3418de0e-cba0-4e6f-91f7-385716fa262b",
   "metadata": {},
   "outputs": [
    {
     "name": "stdin",
     "output_type": "stream",
     "text": [
      "Enter the number to check :  154\n"
     ]
    },
    {
     "name": "stdout",
     "output_type": "stream",
     "text": [
      "Not an armstrong number\n"
     ]
    }
   ],
   "source": [
    "x=int(input(\"Enter the number to check : \"))\n",
    "y=0\n",
    "for i in str(x):\n",
    "    y=y+(int(i))**3\n",
    "if x==y:\n",
    "    print(\"armstrong number\")\n",
    "else:\n",
    "    print(\"Not an armstrong number\")\n",
    "    "
   ]
  },
  {
   "cell_type": "code",
   "execution_count": 46,
   "id": "ca444d1f-490b-4617-a638-c2a75b966852",
   "metadata": {},
   "outputs": [
    {
     "name": "stdin",
     "output_type": "stream",
     "text": [
      "enter the starting range to seek the armstrong number 1\n",
      "Entetr the last number to till program will find the armstrong number 1000\n"
     ]
    },
    {
     "ename": "TypeError",
     "evalue": "can only concatenate str (not \"int\") to str",
     "output_type": "error",
     "traceback": [
      "\u001b[1;31m---------------------------------------------------------------------------\u001b[0m",
      "\u001b[1;31mTypeError\u001b[0m                                 Traceback (most recent call last)",
      "Cell \u001b[1;32mIn[46], line 7\u001b[0m\n\u001b[0;32m      5\u001b[0m     a\u001b[38;5;241m=\u001b[39ma\u001b[38;5;241m+\u001b[39m(\u001b[38;5;28mint\u001b[39m(i))\u001b[38;5;241m*\u001b[39m\u001b[38;5;241m*\u001b[39m\u001b[38;5;241m3\u001b[39m\n\u001b[0;32m      6\u001b[0m     \u001b[38;5;28;01mfor\u001b[39;00m num \u001b[38;5;129;01min\u001b[39;00m \u001b[38;5;28mstr\u001b[39m(i):\n\u001b[1;32m----> 7\u001b[0m         num\u001b[38;5;241m=\u001b[39mnum\u001b[38;5;241m+\u001b[39m(\u001b[38;5;28mint\u001b[39m(i))\u001b[38;5;241m*\u001b[39m\u001b[38;5;241m*\u001b[39m\u001b[38;5;241m3\u001b[39m\n\u001b[0;32m      8\u001b[0m \u001b[38;5;28;01mif\u001b[39;00m a\u001b[38;5;241m==\u001b[39mnum:\n\u001b[0;32m      9\u001b[0m     \u001b[38;5;28mprint\u001b[39m(num,\u001b[38;5;124m\"\u001b[39m\u001b[38;5;124marmstrong numbers are\u001b[39m\u001b[38;5;124m\"\u001b[39m)\n",
      "\u001b[1;31mTypeError\u001b[0m: can only concatenate str (not \"int\") to str"
     ]
    }
   ],
   "source": [
    "x=int(input(\"enter the starting range to seek the armstrong number\"))\n",
    "y=int(input(\"Entetr the last number to till program will find the armstrong number\"))\n",
    "a=0\n",
    "for i in range(x,y+1):\n",
    "    a=a+(int(i))**3\n",
    "    for num in str(i):\n",
    "        num=num+(int(i))**3\n",
    "if a==num:\n",
    "    print(num,\"armstrong numbers are\")\n",
    "else:\n",
    "    print(\"NONE\")"
   ]
  },
  {
   "cell_type": "code",
   "execution_count": 51,
   "id": "192ae1ac-4b50-4f86-a8c1-79a87bf477d7",
   "metadata": {},
   "outputs": [
    {
     "name": "stdin",
     "output_type": "stream",
     "text": [
      "Enter the last number 100\n"
     ]
    },
    {
     "name": "stdout",
     "output_type": "stream",
     "text": [
      "total=  5050\n"
     ]
    }
   ],
   "source": [
    "a=int(input(\"Enter the last number\"))\n",
    "total=0\n",
    "while(a>0):\n",
    "    total=total+a\n",
    "    a=a-1\n",
    "print(\"total= \",total)"
   ]
  },
  {
   "cell_type": "code",
   "execution_count": null,
   "id": "747a500d-f1cc-4dc9-8423-494e4c87efd7",
   "metadata": {},
   "outputs": [],
   "source": []
  }
 ],
 "metadata": {
  "kernelspec": {
   "display_name": "Python 3 (ipykernel)",
   "language": "python",
   "name": "python3"
  },
  "language_info": {
   "codemirror_mode": {
    "name": "ipython",
    "version": 3
   },
   "file_extension": ".py",
   "mimetype": "text/x-python",
   "name": "python",
   "nbconvert_exporter": "python",
   "pygments_lexer": "ipython3",
   "version": "3.11.7"
  }
 },
 "nbformat": 4,
 "nbformat_minor": 5
}
