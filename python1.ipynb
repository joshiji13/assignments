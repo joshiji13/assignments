{
 "cells": [
  {
   "cell_type": "code",
   "execution_count": null,
   "id": "bbca50ce-b288-4620-82c9-a21f75642445",
   "metadata": {},
   "outputs": [],
   "source": [
    "print(\"hello python\")"
   ]
  },
  {
   "cell_type": "code",
   "execution_count": null,
   "id": "6f7f1f7d-452f-4259-b54b-b5991603f7ec",
   "metadata": {},
   "outputs": [],
   "source": [
    "a=int(input('Enter the value of a'))\n",
    "b=int(input('Enter the value of b'))\n",
    "\n",
    "def arithmetic():\n",
    "    c=a+b\n",
    "    d=a/b\n",
    "    return c,d\n",
    "arithmetic()"
   ]
  },
  {
   "cell_type": "code",
   "execution_count": null,
   "id": "a4bedbdb-3f5d-41d5-a175-f0db1f46b906",
   "metadata": {},
   "outputs": [],
   "source": [
    "B=int(input(\"Enter the value of base\"))\n",
    "H=int(input(\"enter the value of height\"))\n",
    "\n",
    "def area():\n",
    "    Area= 0.5*B*H\n",
    "    return Area\n",
    "\n",
    "area()"
   ]
  },
  {
   "cell_type": "code",
   "execution_count": null,
   "id": "fdfab602-16f2-445d-95e7-2f62c7fe2522",
   "metadata": {},
   "outputs": [],
   "source": [
    "a=int(input(\"Enter the value of a\"))\n",
    "b=int(input(\"Enter the value of b\"))\n",
    "t=a\n",
    "a=b\n",
    "b=t\n",
    "print(a)\n",
    "print(b)"
   ]
  },
  {
   "cell_type": "code",
   "execution_count": null,
   "id": "46ae8ccf-76fa-484f-a109-256af1404db4",
   "metadata": {},
   "outputs": [],
   "source": [
    "import random\n",
    "print(random.randint(-999,999))"
   ]
  }
 ],
 "metadata": {
  "kernelspec": {
   "display_name": "Python 3 (ipykernel)",
   "language": "python",
   "name": "python3"
  },
  "language_info": {
   "codemirror_mode": {
    "name": "ipython",
    "version": 3
   },
   "file_extension": ".py",
   "mimetype": "text/x-python",
   "name": "python",
   "nbconvert_exporter": "python",
   "pygments_lexer": "ipython3",
   "version": "3.11.7"
  }
 },
 "nbformat": 4,
 "nbformat_minor": 5
}
