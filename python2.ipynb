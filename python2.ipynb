{
 "cells": [
  {
   "cell_type": "code",
   "execution_count": 25,
   "id": "7db10f12-d4c8-4880-9d1a-c377fb49da23",
   "metadata": {},
   "outputs": [
    {
     "name": "stdin",
     "output_type": "stream",
     "text": [
      "Enter the value in km 50\n"
     ]
    },
    {
     "name": "stdout",
     "output_type": "stream",
     "text": [
      "value in miles=31.05 miles \n"
     ]
    }
   ],
   "source": [
    "a=int(input(\"Enter the value in km\"))\n",
    "def km():\n",
    "    b=a*0.621\n",
    "    print(f\"value in miles={b} miles \")\n",
    "km()"
   ]
  },
  {
   "cell_type": "code",
   "execution_count": 15,
   "id": "ab021d35-14cd-431e-8c6d-7f388b0a3ce6",
   "metadata": {},
   "outputs": [
    {
     "name": "stdin",
     "output_type": "stream",
     "text": [
      "Enter the temperature in Celcius 30\n"
     ]
    },
    {
     "name": "stdout",
     "output_type": "stream",
     "text": [
      "Temprature in Fahrenheit =86.0\n"
     ]
    }
   ],
   "source": [
    "c=int(input(\"Enter the temperature in Celcius\"))\n",
    "def f():\n",
    "    F=c*(9/5)+32\n",
    "    print(f\"Temprature in Fahrenheit ={F}\")\n",
    "f()"
   ]
  },
  {
   "cell_type": "code",
   "execution_count": 20,
   "id": "fc9e7ef4-9e15-426f-a62c-7125bb350e76",
   "metadata": {},
   "outputs": [
    {
     "name": "stdin",
     "output_type": "stream",
     "text": [
      "Enter the value of year  2024\n",
      "Enter the value of month 01\n"
     ]
    },
    {
     "name": "stdout",
     "output_type": "stream",
     "text": [
      "    January 2024\n",
      "Mo Tu We Th Fr Sa Su\n",
      " 1  2  3  4  5  6  7\n",
      " 8  9 10 11 12 13 14\n",
      "15 16 17 18 19 20 21\n",
      "22 23 24 25 26 27 28\n",
      "29 30 31\n",
      "\n"
     ]
    }
   ],
   "source": [
    "import calendar\n",
    "y=int(input(\"Enter the value of year \"))\n",
    "m=int(input(\"Enter the value of month\"))\n",
    "print(calendar.month(y, m))"
   ]
  },
  {
   "cell_type": "code",
   "execution_count": 22,
   "id": "3ed3ad0c-ec0c-4f0e-8721-34bf234c3705",
   "metadata": {},
   "outputs": [
    {
     "name": "stdin",
     "output_type": "stream",
     "text": [
      "Enter the value of a 5\n",
      "Enetr the value of b 8\n",
      "Enter the value of c 9\n"
     ]
    },
    {
     "name": "stdout",
     "output_type": "stream",
     "text": [
      "The roots are\n",
      "(-0.8-1.0770329614269007j)\n",
      "(-0.8+1.0770329614269007j)\n"
     ]
    }
   ],
   "source": [
    "import cmath\n",
    "  \n",
    "a =int(input(\"Enter the value of a\"))\n",
    "b =int(input(\"Enetr the value of b\"))\n",
    "c =int(input(\"Enter the value of c\"))\n",
    "  \n",
    "\n",
    "dis = (b**2) - (4 * a*c)\n",
    "  \n",
    "\n",
    "ans1 = (-b-cmath.sqrt(dis))/(2 * a)\n",
    "ans2 = (-b + cmath.sqrt(dis))/(2 * a)\n",
    "  \n",
    "\n",
    "print('The roots are')\n",
    "print(ans1)\n",
    "print(ans2)"
   ]
  },
  {
   "cell_type": "code",
   "execution_count": 23,
   "id": "7b3cc04d-8f64-444c-be22-f7e615fe1ffb",
   "metadata": {},
   "outputs": [
    {
     "name": "stdin",
     "output_type": "stream",
     "text": [
      "Enter the value 5\n",
      "Enter the value 8\n"
     ]
    },
    {
     "name": "stdout",
     "output_type": "stream",
     "text": [
      "8 5\n"
     ]
    }
   ],
   "source": [
    "a=int(input(\"Enter the value\"))\n",
    "b=int(input(\"Enter the value\"))\n",
    "a,b=b,a\n",
    "print(a,b)"
   ]
  },
  {
   "cell_type": "code",
   "execution_count": null,
   "id": "e4975e83-7f91-4cfa-b80f-001a905c82af",
   "metadata": {},
   "outputs": [],
   "source": []
  }
 ],
 "metadata": {
  "kernelspec": {
   "display_name": "Python 3 (ipykernel)",
   "language": "python",
   "name": "python3"
  },
  "language_info": {
   "codemirror_mode": {
    "name": "ipython",
    "version": 3
   },
   "file_extension": ".py",
   "mimetype": "text/x-python",
   "name": "python",
   "nbconvert_exporter": "python",
   "pygments_lexer": "ipython3",
   "version": "3.11.7"
  }
 },
 "nbformat": 4,
 "nbformat_minor": 5
}
